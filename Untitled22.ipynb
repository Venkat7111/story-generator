{
  "nbformat": 4,
  "nbformat_minor": 0,
  "metadata": {
    "colab": {
      "provenance": [],
      "authorship_tag": "ABX9TyOgzgWgz7pZNpn5Hq0OW3d7",
      "include_colab_link": true
    },
    "kernelspec": {
      "name": "python3",
      "display_name": "Python 3"
    },
    "language_info": {
      "name": "python"
    }
  },
  "cells": [
    {
      "cell_type": "markdown",
      "metadata": {
        "id": "view-in-github",
        "colab_type": "text"
      },
      "source": [
        "<a href=\"https://colab.research.google.com/github/Venkat7111/story-generator/blob/main/Untitled22.ipynb\" target=\"_parent\"><img src=\"https://colab.research.google.com/assets/colab-badge.svg\" alt=\"Open In Colab\"/></a>"
      ]
    },
    {
      "cell_type": "code",
      "source": [
        "!pip install -q streamlit\n",
        "!pip install -q transformers\n",
        "!pip install -q torch\n",
        "!pip install -q gtts\n",
        "!pip install -q fpdf\n",
        "!pip install -q pyngrok\n"
      ],
      "metadata": {
        "colab": {
          "base_uri": "https://localhost:8080/"
        },
        "id": "AfD6FuqZMSau",
        "outputId": "1cd4bd5f-68fc-42de-9551-85d0366d30ae"
      },
      "execution_count": 4,
      "outputs": [
        {
          "output_type": "stream",
          "name": "stdout",
          "text": [
            "\u001b[2K   \u001b[90m━━━━━━━━━━━━━━━━━━━━━━━━━━━━━━━━━━━━━━━━\u001b[0m \u001b[32m363.4/363.4 MB\u001b[0m \u001b[31m4.7 MB/s\u001b[0m eta \u001b[36m0:00:00\u001b[0m\n",
            "\u001b[2K   \u001b[90m━━━━━━━━━━━━━━━━━━━━━━━━━━━━━━━━━━━━━━━━\u001b[0m \u001b[32m13.8/13.8 MB\u001b[0m \u001b[31m87.7 MB/s\u001b[0m eta \u001b[36m0:00:00\u001b[0m\n",
            "\u001b[2K   \u001b[90m━━━━━━━━━━━━━━━━━━━━━━━━━━━━━━━━━━━━━━━━\u001b[0m \u001b[32m24.6/24.6 MB\u001b[0m \u001b[31m78.0 MB/s\u001b[0m eta \u001b[36m0:00:00\u001b[0m\n",
            "\u001b[2K   \u001b[90m━━━━━━━━━━━━━━━━━━━━━━━━━━━━━━━━━━━━━━━━\u001b[0m \u001b[32m883.7/883.7 kB\u001b[0m \u001b[31m42.5 MB/s\u001b[0m eta \u001b[36m0:00:00\u001b[0m\n",
            "\u001b[2K   \u001b[90m━━━━━━━━━━━━━━━━━━━━━━━━━━━━━━━━━━━━━━━\u001b[0m \u001b[32m664.8/664.8 MB\u001b[0m \u001b[31m834.6 kB/s\u001b[0m eta \u001b[36m0:00:00\u001b[0m\n",
            "\u001b[2K   \u001b[90m━━━━━━━━━━━━━━━━━━━━━━━━━━━━━━━━━━━━━━━━\u001b[0m \u001b[32m211.5/211.5 MB\u001b[0m \u001b[31m6.6 MB/s\u001b[0m eta \u001b[36m0:00:00\u001b[0m\n",
            "\u001b[2K   \u001b[90m━━━━━━━━━━━━━━━━━━━━━━━━━━━━━━━━━━━━━━━━\u001b[0m \u001b[32m56.3/56.3 MB\u001b[0m \u001b[31m13.6 MB/s\u001b[0m eta \u001b[36m0:00:00\u001b[0m\n",
            "\u001b[2K   \u001b[90m━━━━━━━━━━━━━━━━━━━━━━━━━━━━━━━━━━━━━━━━\u001b[0m \u001b[32m127.9/127.9 MB\u001b[0m \u001b[31m9.5 MB/s\u001b[0m eta \u001b[36m0:00:00\u001b[0m\n",
            "\u001b[2K   \u001b[90m━━━━━━━━━━━━━━━━━━━━━━━━━━━━━━━━━━━━━━━━\u001b[0m \u001b[32m207.5/207.5 MB\u001b[0m \u001b[31m7.1 MB/s\u001b[0m eta \u001b[36m0:00:00\u001b[0m\n",
            "\u001b[2K   \u001b[90m━━━━━━━━━━━━━━━━━━━━━━━━━━━━━━━━━━━━━━━━\u001b[0m \u001b[32m21.1/21.1 MB\u001b[0m \u001b[31m84.8 MB/s\u001b[0m eta \u001b[36m0:00:00\u001b[0m\n",
            "\u001b[?25h"
          ]
        }
      ]
    },
    {
      "cell_type": "code",
      "source": [
        "%%writefile app.py\n",
        "import streamlit as st\n",
        "from transformers import pipeline, set_seed\n",
        "from gtts import gTTS\n",
        "from fpdf import FPDF\n",
        "from io import BytesIO\n",
        "import os\n",
        "\n",
        "st.set_page_config(page_title=\"Story Writer & Translator\", layout=\"centered\")\n",
        "st.title(\"📚 Interactive Story Writer & Translator\")\n",
        "st.markdown(\"**Create your own AI-generated story, translate it, and download as PDF or audio!**\")\n",
        "\n",
        "languages = {\n",
        "    \"English\": \"en\",\n",
        "    \"Hindi\": \"hi\",\n",
        "    \"Telugu\": \"te\",\n",
        "    \"Malayalam\": \"ml\",\n",
        "    \"Kannada\": \"kn\",\n",
        "    \"Tamil\": \"ta\",\n",
        "    \"Marathi\": \"mr\"\n",
        "}\n",
        "\n",
        "selected_lang = st.selectbox(\"🌐 Choose your translation language:\", list(languages.keys()), index=0)\n",
        "\n",
        "generator = pipeline(\"text-generation\", model=\"gpt2\")\n",
        "set_seed(42)\n",
        "\n",
        "lang_model_map = {\n",
        "    \"Hindi\": \"Helsinki-NLP/opus-mt-en-hi\",\n",
        "    \"Telugu\": \"Helsinki-NLP/opus-mt-en-te\",\n",
        "    \"Malayalam\": \"Helsinki-NLP/opus-mt-en-ml\",\n",
        "    \"Kannada\": \"Helsinki-NLP/opus-mt-en-kn\",\n",
        "    \"Tamil\": \"Helsinki-NLP/opus-mt-en-ta\",\n",
        "    \"Marathi\": \"Helsinki-NLP/opus-mt-en-mr\"\n",
        "}\n",
        "\n",
        "if selected_lang != \"English\":\n",
        "    translator = pipeline(\"translation\", model=lang_model_map[selected_lang])\n",
        "else:\n",
        "    translator = None\n",
        "\n",
        "story_prompt = st.text_input(\"✏️ Start your story:\", \"Once upon a time in a magical land\")\n",
        "\n",
        "if \"story\" not in st.session_state:\n",
        "    st.session_state.story = \"\"\n",
        "\n",
        "if st.button(\"🚀 Generate Next Line\"):\n",
        "    gen_text = generator(story_prompt, max_length=100, num_return_sequences=1)[0][\"generated_text\"]\n",
        "    new_line = gen_text.replace(story_prompt, \"\").strip().split(\".\")[0] + \".\"\n",
        "    st.session_state.story += story_prompt + \" \" + new_line + \"\\n\\n\"\n",
        "    story_prompt = new_line\n",
        "\n",
        "if st.session_state.story:\n",
        "    st.subheader(\"📝 Your Story So Far:\")\n",
        "    st.text_area(\"Story\", st.session_state.story, height=300)\n",
        "\n",
        "    if translator:\n",
        "        translated = translator(st.session_state.story)\n",
        "        translated_text = translated[0]['translation_text']\n",
        "    else:\n",
        "        translated_text = st.session_state.story\n",
        "\n",
        "    st.subheader(\"🌍 Translated Story:\")\n",
        "    st.text_area(\"Translated\", translated_text, height=300)\n",
        "\n",
        "    # ✅ FIXED PDF Download section\n",
        "    pdf = FPDF()\n",
        "    pdf.add_page()\n",
        "    pdf.set_font(\"Arial\", size=12)\n",
        "    for line in translated_text.split(\"\\n\"):\n",
        "        pdf.multi_cell(0, 10, line)\n",
        "\n",
        "    pdf_buffer = BytesIO()\n",
        "    pdf_bytes = pdf.output(dest='S').encode('latin-1')\n",
        "    pdf_buffer.write(pdf_bytes)\n",
        "    pdf_buffer.seek(0)\n",
        "\n",
        "    st.download_button(\"📄 Download Story PDF\", data=pdf_buffer, file_name=\"my_story.pdf\", mime=\"application/pdf\")\n",
        "\n",
        "    # Audio\n",
        "    tts = gTTS(text=translated_text, lang=languages[selected_lang])\n",
        "    audio_buffer = BytesIO()\n",
        "    tts.write_to_fp(audio_buffer)\n",
        "    audio_buffer.seek(0)\n",
        "\n",
        "    st.download_button(\"🔊 Download Audio\", data=audio_buffer, file_name=\"my_story.mp3\", mime=\"audio/mpeg\")\n"
      ],
      "metadata": {
        "colab": {
          "base_uri": "https://localhost:8080/"
        },
        "id": "cQ3WonHyMS-Y",
        "outputId": "8ccf72bf-f453-4869-e6ad-d7fa995c28ee"
      },
      "execution_count": 10,
      "outputs": [
        {
          "output_type": "stream",
          "name": "stdout",
          "text": [
            "Overwriting app.py\n"
          ]
        }
      ]
    },
    {
      "cell_type": "code",
      "source": [
        "# ✅ Import and setup\n",
        "from pyngrok import ngrok\n",
        "import os\n",
        "import time\n",
        "\n",
        "# ✅ Kill any existing Streamlit process\n",
        "!pkill -f streamlit\n",
        "time.sleep(2)\n",
        "\n",
        "# ✅ Set ngrok authtoken\n",
        "ngrok.set_auth_token(\"2zpRIyazzpQ1neheQVOKBiwpVwM_6nrn7SdXyQsqqKySQkqMD\")\n",
        "\n",
        "# ✅ Run your Streamlit app (assumes app.py exists in current directory)\n",
        "!streamlit run app.py &> /content/log.txt &\n",
        "\n",
        "# ✅ Connect ngrok to port 8501 correctly\n",
        "public_url = ngrok.connect(8501)  # ✅ FIXED this line\n",
        "\n",
        "print(\"🔗 Your Streamlit app is running at:\", public_url)\n"
      ],
      "metadata": {
        "colab": {
          "base_uri": "https://localhost:8080/"
        },
        "id": "adhU-SlOM8dU",
        "outputId": "6ebf2d6e-cce9-4757-bc26-bafa32978ecb"
      },
      "execution_count": 12,
      "outputs": [
        {
          "output_type": "stream",
          "name": "stdout",
          "text": [
            "🔗 Your Streamlit app is running at: NgrokTunnel: \"https://f47b32905453.ngrok-free.app\" -> \"http://localhost:8501\"\n"
          ]
        }
      ]
    },
    {
      "cell_type": "code",
      "source": [],
      "metadata": {
        "id": "O9zuKXzENAN5"
      },
      "execution_count": null,
      "outputs": []
    }
  ]
}